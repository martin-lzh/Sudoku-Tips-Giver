{
 "cells": [
  {
   "cell_type": "code",
   "execution_count": null,
   "metadata": {},
   "outputs": [],
   "source": [
    "from functions import Board"
   ]
  },
  {
   "cell_type": "code",
   "execution_count": null,
   "metadata": {},
   "outputs": [],
   "source": [
    "# create board object\n",
    "board = Board()\n",
    "\n",
    "# test string (with or without \"/\" or space separators)\n",
    "# s = \"001030000002000040006501029230607080000803000010004367420108500080000000000070408\"\n",
    "# s = \"001 030 000 002 000 040 006 501 029 230 607 080 000 803 000 010 004 367 420 108 500 080 000 000 000 070 408\"\n",
    "s = \"001030000/002000040/006501029/230607080/000803000/010004367/420108500/080000000/000070408\"\n",
    "\n",
    "# load board from string\n",
    "board.string_to_board(s)\n",
    "\n",
    "# print board\n",
    "if board is not None:\n",
    "    print(\"Board loaded!\")\n",
    "    # print board with newlines\n",
    "    for row in board.board:\n",
    "        print(row, end=\"\\n\")\n",
    "else:\n",
    "    print(\"Failed to load board!\")"
   ]
  },
  {
   "cell_type": "code",
   "execution_count": null,
   "metadata": {},
   "outputs": [],
   "source": [
    "# print board with “/” separator\n",
    "board.board_to_string()"
   ]
  },
  {
   "cell_type": "code",
   "execution_count": null,
   "metadata": {},
   "outputs": [],
   "source": [
    "# print board with newlines\n",
    "for row in board.board:\n",
    "    print(row, end=\"\\n\")"
   ]
  },
  {
   "cell_type": "code",
   "execution_count": null,
   "metadata": {},
   "outputs": [],
   "source": [
    "# check if board is solved，if not, find the block with the least possibilities\n",
    "if board.is_solved():\n",
    "    print(\"The board is solved!\")\n",
    "else:\n",
    "    i, j, const = board.find_constraint()\n",
    "    print(\"On row \", i+1, \"and column \", j+1, \"the block has \", const, \"possibilities!\")"
   ]
  },
  {
   "cell_type": "code",
   "execution_count": null,
   "metadata": {},
   "outputs": [],
   "source": [
    "# add a number to the board\n",
    "board.add(\n",
    "rol=9,col=8,num=1\n",
    "    )"
   ]
  },
  {
   "cell_type": "code",
   "execution_count": null,
   "metadata": {},
   "outputs": [],
   "source": [
    "# remove a number from the board\n",
    "board.remove(\n",
    "rol=9,col=8\n",
    ")"
   ]
  }
 ],
 "metadata": {
  "kernelspec": {
   "display_name": "base",
   "language": "python",
   "name": "python3"
  },
  "language_info": {
   "codemirror_mode": {
    "name": "ipython",
    "version": 3
   },
   "file_extension": ".py",
   "mimetype": "text/x-python",
   "name": "python",
   "nbconvert_exporter": "python",
   "pygments_lexer": "ipython3",
   "version": "3.12.7"
  }
 },
 "nbformat": 4,
 "nbformat_minor": 2
}
